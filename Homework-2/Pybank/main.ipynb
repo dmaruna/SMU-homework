{
 "cells": [
  {
   "cell_type": "code",
   "execution_count": 38,
   "metadata": {},
   "outputs": [],
   "source": []
  },
  {
   "cell_type": "code",
   "execution_count": 8,
   "metadata": {},
   "outputs": [],
   "source": []
  },
  {
   "cell_type": "code",
   "execution_count": null,
   "metadata": {},
   "outputs": [],
   "source": [
    "\n",
    "        \n",
    "        \n",
    "    "
   ]
  },
  {
   "cell_type": "code",
   "execution_count": 41,
   "metadata": {},
   "outputs": [
    {
     "name": "stdout",
     "output_type": "stream",
     "text": [
      "Financial Analysis\n",
      "------------------------------------------------\n",
      "total months: 86\n",
      "Total: $38382578\n",
      "Average change: $-2315.1176470588234\n",
      "Greatest Increase in Profits: Feb-2012 $1926159\n",
      "Greatest Decrease in Profits: Sep-2013 $-2196167\n"
     ]
    }
   ],
   "source": [
    "\n",
    "from pathlib import Path\n",
    "import csv\n",
    "\n",
    "csvpath = Path('Resources/budget_data.csv')\n",
    "\n",
    "# open and read csv\n",
    "with open(budget_data, newline=\"\") as csvfile:\n",
    "    csvreader = csv.reader(csvfile, delimiter=\",\")\n",
    "    csv_header = next(csvfile)\n",
    "  \n",
    "    # find net amount of profit and loss\n",
    "    P = []\n",
    "    months = []\n",
    "\n",
    "    #read through each row of data after header\n",
    "    for rows in csvreader:\n",
    "        P.append(int(rows[1]))\n",
    "        months.append(rows[0])\n",
    "\n",
    "    # find revenue change\n",
    "    revenue_change = []\n",
    "\n",
    "    for x in range(1, len(P)):\n",
    "        revenue_change.append((int(P[x]) - int(P[x-1])))\n",
    "    \n",
    "    # calculate average revenue change\n",
    "    revenue_average = sum(revenue_change) / len(revenue_change)\n",
    "    \n",
    "    # calculate total length of months\n",
    "    total_months = len(months)\n",
    "\n",
    "    # greatest increase in revenue\n",
    "    greatest_increase = max(revenue_change)\n",
    "    # greatest decrease in revenue\n",
    "    greatest_decrease = min(revenue_change)\n",
    "\n",
    "\n",
    "    # print the Results\n",
    "    print(\"Financial Analysis\")\n",
    "\n",
    "    print(\"------------------------------------------------\")\n",
    "\n",
    "    print(\"total months: \" + str(total_months))\n",
    "\n",
    "    print(\"Total: \" + \"$\" + str(sum(P)))\n",
    "\n",
    "    print(\"Average change: \" + \"$\" + str(revenue_average))\n",
    "\n",
    "    print(\"Greatest Increase in Profits: \" + str(months[revenue_change.index(max(revenue_change))+1]) + \" \" + \"$\" + str(greatest_increase))\n",
    "\n",
    "    print(\"Greatest Decrease in Profits: \" + str(months[revenue_change.index(min(revenue_change))+1]) + \" \" + \"$\" + str(greatest_decrease))\n",
    "\n",
    "\n",
    "    # output to a text file\n",
    "\n",
    "    file = open(\"output.txt\",\"w\")\n",
    "\n",
    "    file.write(\"Financial Analysis\" + \"\\n\")\n",
    "\n",
    "    file.write(\"----------------------\" + \"\\n\")\n",
    "\n",
    "    file.write(\"total months: \" + str(total_months) + \"\\n\")\n",
    "\n",
    "    file.write(\"Total: \" + \"$\" + str(sum(P)) + \"\\n\")\n",
    "\n",
    "    file.write(\"Average change: \" + \"$\" + str(revenue_average) + \"\\n\")\n",
    "\n",
    "    file.write(\"Greatest Increase in Profits: \" + str(months[revenue_change.index(max(revenue_change))+1]) + \" \" + \"$\" + str(greatest_increase) + \"\\n\")\n",
    "\n",
    "    file.write(\"Greatest Decrease in Profits: \" + str(months[revenue_change.index(min(revenue_change))+1]) + \" \" + \"$\" + str(greatest_decrease) + \"\\n\")\n",
    "\n",
    "    file.close()"
   ]
  },
  {
   "cell_type": "code",
   "execution_count": null,
   "metadata": {},
   "outputs": [],
   "source": []
  },
  {
   "cell_type": "code",
   "execution_count": null,
   "metadata": {},
   "outputs": [],
   "source": []
  }
 ],
 "metadata": {
  "kernelspec": {
   "display_name": "Python 3",
   "language": "python",
   "name": "python3"
  },
  "language_info": {
   "codemirror_mode": {
    "name": "ipython",
    "version": 3
   },
   "file_extension": ".py",
   "mimetype": "text/x-python",
   "name": "python",
   "nbconvert_exporter": "python",
   "pygments_lexer": "ipython3",
   "version": "3.8.3"
  }
 },
 "nbformat": 4,
 "nbformat_minor": 4
}
